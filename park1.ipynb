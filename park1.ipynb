{
 "cells": [
  {
   "cell_type": "code",
   "execution_count": null,
   "id": "f2170d70",
   "metadata": {},
   "outputs": [],
   "source": [
    "#파이썬"
   ]
  },
  {
   "cell_type": "code",
   "execution_count": 4,
   "id": "a2a6133f",
   "metadata": {},
   "outputs": [
    {
     "name": "stdout",
     "output_type": "stream",
     "text": [
      "Python 3.13.3\n"
     ]
    }
   ],
   "source": [
    "!python -V\n"
   ]
  },
  {
   "cell_type": "code",
   "execution_count": 5,
   "id": "a263e8cb",
   "metadata": {},
   "outputs": [
    {
     "name": "stdout",
     "output_type": "stream",
     "text": [
      "pip 25.1.1 from C:\\Users\\user\\AppData\\Local\\Programs\\Python\\Python313\\Lib\\site-packages\\pip (python 3.13)\n",
      "\n"
     ]
    }
   ],
   "source": [
    "!Pip -V\n"
   ]
  },
  {
   "cell_type": "code",
   "execution_count": null,
   "id": "e55d9e7c",
   "metadata": {},
   "outputs": [
    {
     "name": "stdout",
     "output_type": "stream",
     "text": [
      "9.4.0\n"
     ]
    }
   ],
   "source": [
    "!ipython -V"
   ]
  },
  {
   "cell_type": "markdown",
   "id": "6f7fa794",
   "metadata": {},
   "source": [
    "# 내장함수"
   ]
  },
  {
   "cell_type": "code",
   "execution_count": 3,
   "id": "ef5705ff",
   "metadata": {},
   "outputs": [
    {
     "name": "stdout",
     "output_type": "stream",
     "text": [
      "3\n",
      "1.2\n"
     ]
    }
   ],
   "source": [
    "# abs 절대값으로 양수 변환\n",
    "print(abs(-3)) \n",
    "print(abs(-1.2))"
   ]
  },
  {
   "cell_type": "code",
   "execution_count": null,
   "id": "c1614f7d",
   "metadata": {},
   "outputs": [
    {
     "name": "stdout",
     "output_type": "stream",
     "text": [
      "True\n",
      "False\n",
      "True\n",
      "False\n"
     ]
    }
   ],
   "source": [
    "# all\n",
    "print(all([1, 1, 1]))\n",
    "print(all([1, 1, 1,2,3,4,5,6,7,8,9,0]))\n",
    "print(all([]))  # 빈 리스트는 True로 간주\n",
    "print(all([0, 1, 1]))  # 0이 있으면 False   \n"
   ]
  },
  {
   "cell_type": "code",
   "execution_count": 8,
   "id": "8d22a5ad",
   "metadata": {},
   "outputs": [
    {
     "name": "stdout",
     "output_type": "stream",
     "text": [
      "True\n",
      "False\n",
      "False\n",
      "True\n",
      "False\n"
     ]
    }
   ],
   "source": [
    "print(any([1, 2,3,4,5,6,7,8,9,0]))  # 하나라도 True면 True\n",
    "print(any([0, 0, 0, 0]))  # 모두 False면 False\n",
    "print(any([]))  # 빈 리스트는 False로 간주 \n",
    "print(any([0, 1, 1]))  # 하나라도 True면 True\n",
    "print(any([0,False,\"\"]))"
   ]
  },
  {
   "cell_type": "code",
   "execution_count": null,
   "id": "8aea6d53",
   "metadata": {},
   "outputs": [
    {
     "name": "stdout",
     "output_type": "stream",
     "text": [
      "A\n",
      "65\n",
      "가\n",
      "44032\n",
      "0\n",
      "48\n"
     ]
    }
   ],
   "source": [
    "# 아스키코드(ASCII code) -  정의: 컴퓨터가 문자를 숫자로 표현하는 방법\n",
    "# 아스키코드는 0부터 127까지의 숫자로 구성된 문자 인코딩 체계입니다.\n",
    "print(chr(65))  # 'A'의 아스키 코드\n",
    "print(ord('A'))  # 'A'의 아스키 코드 값 65\n",
    "print(chr(44032))  # '가'의 아스키 코드\n",
    "print(ord('가'))  # '가'의 아스키 코드 값 44032\n",
    "hex (30)\n",
    "print(chr(int(hex(0x30)[2:], 16)))  # '0'의 아스키 코드\n",
    "print(ord('0'))  # '0'의 아스키 코드 값 48"
   ]
  },
  {
   "cell_type": "code",
   "execution_count": 1,
   "id": "8e75b932",
   "metadata": {},
   "outputs": [
    {
     "name": "stdout",
     "output_type": "stream",
     "text": [
      "['__add__', '__class__', '__class_getitem__', '__contains__', '__delattr__', '__delitem__', '__dir__', '__doc__', '__eq__', '__format__', '__ge__', '__getattribute__', '__getitem__', '__getstate__', '__gt__', '__hash__', '__iadd__', '__imul__', '__init__', '__init_subclass__', '__iter__', '__le__', '__len__', '__lt__', '__mul__', '__ne__', '__new__', '__reduce__', '__reduce_ex__', '__repr__', '__reversed__', '__rmul__', '__setattr__', '__setitem__', '__sizeof__', '__str__', '__subclasshook__', 'append', 'clear', 'copy', 'count', 'extend', 'index', 'insert', 'pop', 'remove', 'reverse', 'sort']\n",
      "['__class__', '__class_getitem__', '__contains__', '__delattr__', '__delitem__', '__dir__', '__doc__', '__eq__', '__format__', '__ge__', '__getattribute__', '__getitem__', '__getstate__', '__gt__', '__hash__', '__init__', '__init_subclass__', '__ior__', '__iter__', '__le__', '__len__', '__lt__', '__ne__', '__new__', '__or__', '__reduce__', '__reduce_ex__', '__repr__', '__reversed__', '__ror__', '__setattr__', '__setitem__', '__sizeof__', '__str__', '__subclasshook__', 'clear', 'copy', 'fromkeys', 'get', 'items', 'keys', 'pop', 'popitem', 'setdefault', 'update', 'values']\n"
     ]
    }
   ],
   "source": [
    "# dir 객체가 가지고 있는 함수를 보여줌\n",
    "print(dir([1, 2, 3])) # 리스트 객체의 메소드와 속성\n",
    "print(dir({'a': 1, 'b': 2}))  # 딕셔너리 객체의 메소드와 속성\n",
    "                                "
   ]
  },
  {
   "cell_type": "code",
   "execution_count": 21,
   "id": "801cac4e",
   "metadata": {},
   "outputs": [
    {
     "name": "stdout",
     "output_type": "stream",
     "text": [
      "3\n",
      "1\n",
      "(3, 1)\n"
     ]
    }
   ],
   "source": [
    "print(13//4)  # 몫을 구하는 연산자\n",
    "print(13%4)  # 나머지를 구하는 연산자\n",
    "print(divmod(13, 4))  # 몫과 나머지를 동시에 구하는 함수\n"
   ]
  },
  {
   "cell_type": "code",
   "execution_count": 22,
   "id": "5d9d8dbb",
   "metadata": {},
   "outputs": [
    {
     "name": "stdout",
     "output_type": "stream",
     "text": [
      "1 번째 apple\n",
      "2 번째 banana\n",
      "3 번째 cherry\n",
      "4 번째 date\n",
      "5 번째 elderberry\n"
     ]
    }
   ],
   "source": [
    "frult = ['apple', 'banana', 'cherry', 'date', 'elderberry']\n",
    "animals = ['cat', 'dog', 'elephant', 'fox', 'giraffe']\n",
    "for idx, f in enumerate(frult):  # enumerate는 인덱스와 값을 함께 반환\n",
    "    # idx는 인덱스, f는 값\n",
    "    print((idx+1), \"번째\", f)"
   ]
  },
  {
   "cell_type": "code",
   "execution_count": 23,
   "id": "0604de56",
   "metadata": {},
   "outputs": [
    {
     "name": "stdout",
     "output_type": "stream",
     "text": [
      "1 apple cat\n",
      "2 banana dog\n",
      "3 cherry elephant\n",
      "4 date fox\n",
      "5 elderberry giraffe\n"
     ]
    }
   ],
   "source": [
    "frult = ['apple', 'banana', 'cherry', 'date', 'elderberry']\n",
    "animals = ['cat', 'dog', 'elephant', 'fox', 'giraffe']\n",
    "for idx, (fruit, animal) in enumerate(zip(frult, animals), start=1):  # zip은 두 리스트를 묶어줌\n",
    "    print(idx, fruit, animal)\n",
    "    # idx는 인덱스, fruit, animal은 값"
   ]
  },
  {
   "cell_type": "code",
   "execution_count": 46,
   "id": "19d3bbfe",
   "metadata": {},
   "outputs": [
    {
     "name": "stdout",
     "output_type": "stream",
     "text": [
      "긍정 단어 수: 2, 부정 단어 수: 0\n",
      "당신은 긍정적인 기분을 표현했군요!\n"
     ]
    }
   ],
   "source": [
    "from collections import Counter\n",
    "\n",
    "positive_words = ['좋아', '행복', '기쁘다', '즐겁다']\n",
    "negative_words = ['슬프다', '화나다', '우울하다', '짜증나다']\n",
    "text = input(\"당신의 기분을 한 문장으로 표현해주세요.\")\n",
    "#방법1\n",
    "#for v in positive_words:\n",
    "    #if v in text:\n",
    "        #print(\"당신은 긍정적인 기분을 표현했군요!\")\n",
    "        #break\n",
    "#for v in negative_words:\n",
    "    #if v in text:\n",
    "        #print(\"당신은 부정적인 기분을 표현했군요!\")\n",
    "        #break\n",
    "\n",
    "#방법2\n",
    "#if any(v in text for v in positive_words):\n",
    "    #print(\"당신은 긍정적인 기분을 표현했군요!\")\n",
    "#elif any(v in text for v in negative_words):\n",
    "    #print(\"당신은 부정적인 기분을 표현했군요!\")\n",
    "#else:\n",
    "    #print(\"당신의 기분을 알 수 없어요.\")    \n",
    "\n",
    "# 방법3\n",
    "#pos = [v for v in positive_words if v in text]\n",
    "#print(pos,len(pos))\n",
    "#neg = [v for v in negative_words if v in text]\n",
    "#print(neg,len(neg))\n",
    "#if len(pos) > len(neg):\n",
    "    #print(\"당신은 긍정적인 기분을 표현했군요!\")\n",
    "#elif len(pos) < len(neg):\n",
    "    #print(\"당신은 부정적인 기분을 표현했군요!\")\n",
    "#else:\n",
    "    #print(\"당신의 기분을 알 수 없어요.\")\n",
    "\n",
    "#방법4번 (숙제)\n",
    "word_counter = Counter(text.split())\n",
    "\n",
    "# 긍정·부정 단어가 각각 몇 번 나왔는지 합산\n",
    "pos_count = sum(word_counter[w] for w in positive_words)\n",
    "neg_count = sum(word_counter[w] for w in negative_words)\n",
    "\n",
    "print(f\"긍정 단어 수: {pos_count}, 부정 단어 수: {neg_count}\")\n",
    "\n",
    "if pos_count > neg_count:\n",
    "    print(\"당신은 긍정적인 기분을 표현했군요!\")\n",
    "elif pos_count < neg_count:\n",
    "    print(\"당신은 부정적인 기분을 표현했군요!\")\n",
    "else:\n",
    "    print(\"당신의 기분을 알 수 없어요.\")"
   ]
  },
  {
   "cell_type": "code",
   "execution_count": 26,
   "id": "81e447d0",
   "metadata": {},
   "outputs": [
    {
     "name": "stdout",
     "output_type": "stream",
     "text": [
      "Requirement already satisfied: konlpy in c:\\users\\user\\appdata\\local\\programs\\python\\python313\\lib\\site-packages (0.6.0)\n",
      "Requirement already satisfied: JPype1>=0.7.0 in c:\\users\\user\\appdata\\local\\programs\\python\\python313\\lib\\site-packages (from konlpy) (1.5.2)\n",
      "Requirement already satisfied: lxml>=4.1.0 in c:\\users\\user\\appdata\\local\\programs\\python\\python313\\lib\\site-packages (from konlpy) (6.0.0)\n",
      "Requirement already satisfied: numpy>=1.6 in c:\\users\\user\\appdata\\local\\programs\\python\\python313\\lib\\site-packages (from konlpy) (2.3.1)\n",
      "Requirement already satisfied: packaging in c:\\users\\user\\appdata\\local\\programs\\python\\python313\\lib\\site-packages (from JPype1>=0.7.0->konlpy) (25.0)\n"
     ]
    }
   ],
   "source": [
    "!pip install konlpy"
   ]
  },
  {
   "cell_type": "code",
   "execution_count": null,
   "id": "9322f4a5",
   "metadata": {},
   "outputs": [
    {
     "name": "stdout",
     "output_type": "stream",
     "text": [
      "['다음']\n"
     ]
    }
   ],
   "source": [
    "# konlpy 라이브러리를 사용하여 한국어 형태소 분석\n",
    "# 형태소 분석기 설치\n",
    "from konlpy.tag import Okt\n",
    "okt = Okt()\n",
    "text = input(\"당신의 기분을 한 문장으로 표현해주세요.\")\n",
    "words = okt.morphs(text,stem=True)\n",
    "print(words)  # 명사 추출"
   ]
  },
  {
   "cell_type": "code",
   "execution_count": 28,
   "id": "7f4802fc",
   "metadata": {},
   "outputs": [
    {
     "name": "stderr",
     "output_type": "stream",
     "text": [
      "java version \"24.0.1\" 2025-04-15\n",
      "Java(TM) SE Runtime Environment (build 24.0.1+9-30)\n",
      "Java HotSpot(TM) 64-Bit Server VM (build 24.0.1+9-30, mixed mode, sharing)\n"
     ]
    }
   ],
   "source": [
    "!java -version"
   ]
  },
  {
   "cell_type": "code",
   "execution_count": 29,
   "id": "30607a1f",
   "metadata": {},
   "outputs": [],
   "source": [
    "os.environ['JAVA_HOME'] = \"C:\\\\Program Files\\\\Java\\\\jdk-24\""
   ]
  },
  {
   "cell_type": "markdown",
   "id": "c9785c2c",
   "metadata": {},
   "source": [
    "# filter 와 map"
   ]
  },
  {
   "cell_type": "markdown",
   "id": "ce8cb7ef",
   "metadata": {},
   "source": [
    "filter 필터 :여러 가지가 줄어드는것"
   ]
  },
  {
   "cell_type": "markdown",
   "id": "b8419ca2",
   "metadata": {},
   "source": [
    "map 맵 -> 데이터 개수가 같다."
   ]
  },
  {
   "cell_type": "code",
   "execution_count": 40,
   "id": "d58a51c4",
   "metadata": {},
   "outputs": [
    {
     "name": "stdout",
     "output_type": "stream",
     "text": [
      "[1, 3, 4, 3, 5]\n"
     ]
    }
   ],
   "source": [
    "# filter 는 True인 값만 남김\n",
    "data = [1, -2, 3, 4, -5, 0, -1, 3, -4, 5]\n",
    "def pos(v):\n",
    "    return v > 0  # 양수인 경우 True 반환\n",
    "print(list(filter( pos,data)))"
   ]
  },
  {
   "cell_type": "code",
   "execution_count": 41,
   "id": "b81efb2d",
   "metadata": {},
   "outputs": [
    {
     "name": "stdout",
     "output_type": "stream",
     "text": [
      "[1, 3, 4, 3, 5]\n"
     ]
    }
   ],
   "source": [
    "# filter 는 True인 값만 남김\n",
    "data = [1, -2, 3, 4, -5, 0, -1, 3, -4, 5]\n",
    "print(list(filter( lambda v:v > 0,data)))"
   ]
  },
  {
   "cell_type": "code",
   "execution_count": 42,
   "id": "9d2a8393",
   "metadata": {},
   "outputs": [
    {
     "name": "stdout",
     "output_type": "stream",
     "text": [
      "[1, 4, 9, 16, 25, 0, 1, 9, 16, 25]\n"
     ]
    }
   ],
   "source": [
    "data = [1, -2, 3, 4, -5, 0, -1, 3, -4, 5]\n",
    "def pos(v):\n",
    "    return v**2\n",
    "print(list(map(pos, data)))  # 각 요소에 pos 함수를 적용하여 새로운 리스트 생성\n"
   ]
  },
  {
   "cell_type": "code",
   "execution_count": 43,
   "id": "4f2247c2",
   "metadata": {},
   "outputs": [
    {
     "name": "stdout",
     "output_type": "stream",
     "text": [
      "[2, -4, 6, 8, -10, 0, -2, 6, -8, 10]\n"
     ]
    }
   ],
   "source": [
    "data = [1, -2, 3, 4, -5, 0, -1, 3, -4, 5]\n",
    "print(list(map(lambda v:v * 2,data)))  # 각 요소를 2배  "
   ]
  },
  {
   "cell_type": "code",
   "execution_count": 44,
   "id": "097e5b58",
   "metadata": {},
   "outputs": [
    {
     "name": "stdout",
     "output_type": "stream",
     "text": [
      "[1, 3, 5, 7, 9]\n",
      "[2, 4, 6, 8, 10]\n",
      "[11, 12, 13, 14, 15, 16, 17, 18, 19, 20]\n",
      "[10, 20, 30, 40, 50, 60, 70, 80, 90, 100]\n",
      "[11, 24, 39, 56, 75, 96, 119, 144, 171, 200]\n"
     ]
    }
   ],
   "source": [
    "lis =list(range(1, 11))  # 1부터 10까지의 숫자를 리스트로 생성\n",
    "def odd(x):\n",
    "    return x % 2 == 1  # 홀수인 경우 True 반환\n",
    "def even(x):\n",
    "    return x % 2 == 0  # 짝수인 경우 True 반환\n",
    "def add(x):\n",
    "    return x + 10   # 10을 더한 값을 반환\n",
    "def mul(x):\n",
    "    return x * 10   # 10를 곱한 값을 반환\n",
    "def addmul(x):\n",
    "    return (x + 10) * x   # 10을 더하고 2를 곱한 값을 반환\n",
    "\n",
    "print(list(filter(odd, lis)))  # 홀수만 필터링\n",
    "print(list(filter(even, lis)))  # 짝수만 필터링\n",
    "print(list(map(add, lis)))  # 각 요소에 10을 더함\n",
    "print(list(map(mul, lis)))  # 각 요소에 10을 곱함\n",
    "print(list(map(addmul, lis)))  # 각 요소에 10을 더하고 곱함"
   ]
  },
  {
   "cell_type": "code",
   "execution_count": 3,
   "id": "91bb1bdc",
   "metadata": {},
   "outputs": [
    {
     "name": "stdout",
     "output_type": "stream",
     "text": [
      "1\n",
      "e\n",
      "104 101 108 108 111\n"
     ]
    }
   ],
   "source": [
    "#max\n",
    "print(min(1,2,3,4,5))\n",
    "print(min(\"hello\"))  # 아스키코드의 값이 가장 작은 문자 반환\n",
    "print(ord('h'),ord('e'),ord('l'),ord('l'),ord('o'))  # 각 문자의 아스키 코드 값 출력"
   ]
  },
  {
   "cell_type": "code",
   "execution_count": null,
   "id": "b117f695",
   "metadata": {},
   "outputs": [],
   "source": [
    "print(pow2,8)  # 2의 8제곱\n",
    "print(pow(2,16))   \n",
    "print(pow(2,32))    "
   ]
  },
  {
   "cell_type": "code",
   "execution_count": 4,
   "id": "2ba9f386",
   "metadata": {},
   "outputs": [],
   "source": [
    "#return ,print 차이\n",
    "def test():\n",
    "    print(\"Hello, World!\")  # print는 값을 출력하지만 반환하지 않음\n",
    "def test_return():\n",
    "    return \"Hello, World!\"  # return은 값을 반환함"
   ]
  },
  {
   "cell_type": "code",
   "execution_count": 1,
   "id": "09a57254",
   "metadata": {},
   "outputs": [
    {
     "name": "stdout",
     "output_type": "stream",
     "text": [
      "3.14\n",
      "3.142\n",
      "3.1416\n"
     ]
    }
   ],
   "source": [
    "print(round(3.14159, 2))  # 소수점 둘째 자리까지 반올림\n",
    "print(round(3.14159, 3))  # 소수점 셋째 자리까지 반올림\n",
    "print(round(3.14159, 4))  # 소수점 넷째 자리까지 반올림"
   ]
  },
  {
   "cell_type": "code",
   "execution_count": 2,
   "id": "ead46f25",
   "metadata": {},
   "outputs": [
    {
     "name": "stdout",
     "output_type": "stream",
     "text": [
      "3\n",
      "3\n",
      "3\n"
     ]
    }
   ],
   "source": [
    "# floor 내림\n",
    "import math\n",
    "print(math.floor(3.7))  # 3.7을 내림하여 3 반환\n",
    "print(math.floor(3.2))  # 3.2을 내림하여 3 반환\n",
    "print(math.floor(3.9))  # 3.9을 내림하여 3 반환\n"
   ]
  },
  {
   "cell_type": "code",
   "execution_count": 3,
   "id": "53646d26",
   "metadata": {},
   "outputs": [
    {
     "name": "stdout",
     "output_type": "stream",
     "text": [
      "3.14159\n",
      "3.1\n",
      "3.14\n",
      "3.142\n"
     ]
    }
   ],
   "source": [
    "pi = 3.14159\n",
    "print(pi)  # pi 값 출력\n",
    "print(f\"{pi:.1f}\")\n",
    "print(f\"{pi:.2f}\")\n",
    "print(f\"{pi:.3f}\")"
   ]
  },
  {
   "cell_type": "code",
   "execution_count": 58,
   "id": "9bafb9e1",
   "metadata": {},
   "outputs": [
    {
     "name": "stdout",
     "output_type": "stream",
     "text": [
      "[0, 1, 2, 3, 4, 5, 6, 7, 8, 9]\n",
      "[0, 2, 4, 6, 8]\n",
      "[]\n",
      "[9, 8, 7, 6, 5, 4, 3, 2, 1, 0]\n"
     ]
    }
   ],
   "source": [
    "print(list(range(0,10,1))) #range(10)과 동일\n",
    "print(list(range(0, 10, 2)))  \n",
    "print(list(range(0, 10, -1)))  \n",
    "print(list(range(9, -1, -1)))  "
   ]
  },
  {
   "cell_type": "code",
   "execution_count": 4,
   "id": "ee476d32",
   "metadata": {},
   "outputs": [
    {
     "name": "stdout",
     "output_type": "stream",
     "text": [
      "[3, 1, 4, 2, 5, 8, 6, 7, 9, 0]\n",
      "[0, 1, 2, 3, 4, 5, 6, 7, 8, 9]\n",
      "[9, 8, 7, 6, 5, 4, 3, 2, 1, 0]\n"
     ]
    }
   ],
   "source": [
    "# SORTED(iterable) *졍렬된 리스트로 리턴\n",
    "s0 = [3,1,4,2,5,8,6,7,9,0]\n",
    "s1 = sorted(s0)  # 오름차순 정렬\n",
    "s2 = sorted(s0, reverse=True)  # 내림차순 정렬\n",
    "print(s0)\n",
    "print(s1)\n",
    "print(s2)"
   ]
  },
  {
   "cell_type": "code",
   "execution_count": 5,
   "id": "764b8142",
   "metadata": {},
   "outputs": [
    {
     "name": "stdout",
     "output_type": "stream",
     "text": [
      "23 <class 'int'>\n",
      "23 <class 'str'>\n",
      "23 <class 'int'>\n"
     ]
    }
   ],
   "source": [
    "num =23\n",
    "st = str(num)  # 숫자를 문자열로 변환\n",
    "print(num, type(num))\n",
    "print(st, type(st))  # 문자열로 변환된 num의 타입 확인\n",
    "num2 = int(st)  # 문자열을 다시 숫자로 변환\n",
    "print(num2, type(num2))  # 변환된 num2의 타입 확인"
   ]
  },
  {
   "cell_type": "code",
   "execution_count": null,
   "id": "70c0c262",
   "metadata": {},
   "outputs": [
    {
     "name": "stdout",
     "output_type": "stream",
     "text": [
      "45\n",
      "[1, 2, 3, 4, 5, 6, 7, 8, 9, 10]\n"
     ]
    }
   ],
   "source": [
    "s3 = [3,1,4,2,5,8,6,7,9,0]\n",
    "print(sum(s3))  # 리스트의 합계\n",
    "print(list(range(0,101,2)))"
   ]
  },
  {
   "cell_type": "code",
   "execution_count": 7,
   "id": "e4312c95",
   "metadata": {},
   "outputs": [
    {
     "name": "stdout",
     "output_type": "stream",
     "text": [
      " C 드라이브의 볼륨에는 이름이 없습니다.\n",
      " 볼륨 일련 번호: 6499-5D7B\n",
      "\n",
      " C:\\park 디렉터리\n",
      "\n",
      "[.]                  [.ipynb_checkpoints] myserver.bat\n",
      "py01.ipynb           [Untitled Folder]    Untitled.ipynb\n",
      "               3개 파일                 744 바이트\n",
      "               3개 디렉터리  23,249,903,616 바이트 남음\n"
     ]
    }
   ],
   "source": [
    "!dir/w\n"
   ]
  },
  {
   "cell_type": "code",
   "execution_count": 136,
   "id": "d98513e8",
   "metadata": {},
   "outputs": [
    {
     "name": "stdout",
     "output_type": "stream",
     "text": [
      "1 2 짝\n",
      "4 오\n",
      "짝\n",
      "7 8 짝\n",
      "오\n",
      "11 짝\n",
      "13 14 오예\n",
      "16 17 짝\n",
      "19 오\n",
      "짝\n",
      "22 23 짝\n",
      "오\n",
      "26 짝\n",
      "28 29 오예\n",
      "31 32 짝\n",
      "34 오\n",
      "짝\n",
      "37 38 짝\n",
      "오\n",
      "41 짝\n",
      "43 44 오예\n",
      "46 47 짝\n",
      "49 오\n",
      "짝\n",
      "52 53 짝\n",
      "오\n",
      "56 짝\n",
      "58 59 오예\n",
      "61 62 짝\n",
      "64 오\n",
      "짝\n",
      "67 68 짝\n",
      "오\n",
      "71 짝\n",
      "73 74 오예\n",
      "76 77 짝\n",
      "79 오\n",
      "짝\n",
      "82 83 짝\n",
      "오\n",
      "86 짝\n",
      "88 89 오예\n",
      "91 92 짝\n",
      "94 오\n",
      "짝\n",
      "97 98 짝\n",
      "오\n",
      "\n"
     ]
    }
   ],
   "source": [
    "# open 으로 파일 읽기\n",
    "f = open(\"숫자놀이.text\", \"r\", encoding=\"utf-8\")  # 파일 열기 (읽기 모드)\n",
    "contents = f.read()                        #(2) 할경우 2바이트 읽기\n",
    "print(contents)  # 파일 내용 출력\n",
    "f.close()  # 파일 닫기"
   ]
  },
  {
   "cell_type": "code",
   "execution_count": 134,
   "id": "ef05d14b",
   "metadata": {},
   "outputs": [
    {
     "name": "stdout",
     "output_type": "stream",
     "text": [
      "파일에 내용이 작성되었습니다.\n"
     ]
    }
   ],
   "source": [
    "f = open(\"숫자놀이.text\", \"w\", encoding=\"utf-8\")\n",
    "f.write(\"\")\n",
    "print(\"파일에 내용이 작성되었습니다.\")\n",
    "f.close()"
   ]
  },
  {
   "cell_type": "code",
   "execution_count": 135,
   "id": "6153bd94",
   "metadata": {},
   "outputs": [],
   "source": [
    "# ① 이어쓰기(a)로 열어 원하는 패턴 저장\n",
    "f = open(\"숫자놀이.text\", \"a\", encoding=\"utf-8\")\n",
    "for i in range(1, 101):            # 1~100\n",
    "    if i % 15 == 0:                # 3과 5의 공배수\n",
    "        f.write(\"오예\\n\")\n",
    "    elif i % 3 == 0:\n",
    "        f.write(\"짝\\n\")\n",
    "    elif i % 5 == 0:\n",
    "        f.write(\"오\\n\")\n",
    "    else:\n",
    "        f.write(f\"{i} \")\n",
    "f.close()                         "
   ]
  },
  {
   "cell_type": "code",
   "execution_count": 131,
   "id": "a145b20b",
   "metadata": {},
   "outputs": [
    {
     "name": "stdout",
     "output_type": "stream",
     "text": [
      "\n"
     ]
    }
   ],
   "source": [
    "# open 으로 파일 읽기\n",
    "f = open(\"학점.text\", \"r\", encoding=\"utf-8\")  # 파일 열기 (읽기 모드)\n",
    "contents = f.read()                        #(2) 할경우 2바이트 읽기\n",
    "print(contents)  # 파일 내용 출력\n",
    "f.close()  # 파일 닫기"
   ]
  },
  {
   "cell_type": "code",
   "execution_count": 130,
   "id": "f1cac8e7",
   "metadata": {},
   "outputs": [
    {
     "name": "stdout",
     "output_type": "stream",
     "text": [
      "파일에 내용이 작성되었습니다.\n"
     ]
    }
   ],
   "source": [
    "f = open(\"학점.text\", \"w\", encoding=\"utf-8\")\n",
    "f.write(\"\")\n",
    "print(\"파일에 내용이 작성되었습니다.\")\n",
    "f.close()"
   ]
  },
  {
   "cell_type": "code",
   "execution_count": null,
   "id": "b5d4edb3",
   "metadata": {},
   "outputs": [],
   "source": [
    "# open 으로 파일 내용 추가(a) \n",
    "f = open(\"학점.text\", \"a\", encoding=\"utf-8\")  # 'a' : 기존 내용 뒤에 이어쓰기\n",
    "i = (95, 85, 75, 65, 55)  \n",
    "for score in i:\n",
    "    if score >= 90:  \n",
    "        학점  = \"A\"\n",
    "    elif score >= 80:  \n",
    "        학점 = \"B\"\n",
    "    elif score >= 70:  \n",
    "        학점 = \"C\"\n",
    "    elif score >= 60:  \n",
    "        학점 = \"D\"\n",
    "    else:  \n",
    "        학점 = \"F\"\n",
    "    f.write(f\"{score}점: {학점}\\n\")  # \n",
    "f.close()                        # 파일 닫기(잠금 해제)\n",
    "        "
   ]
  },
  {
   "cell_type": "code",
   "execution_count": null,
   "id": "b2fbea9a",
   "metadata": {},
   "outputs": [],
   "source": [
    "#교수님거 예시 if elif else 조건 실습\n",
    "학생들 = [90,82,45,71,60]\n",
    "\n",
    "with open(\"D:\\\\kys\\\\public\\\\성적.txt\", \"w\", encoding=\"utf-8\") as f:\n",
    "    for 점수 in 학생들:\n",
    "        if 점수 >= 90:\n",
    "            학점 = \"A\"\n",
    "        elif 점수 >= 80:\n",
    "            학점 = \"B\"\n",
    "        elif 점수 >= 70:\n",
    "            학점 = \"C\"\n",
    "        elif 점수 >= 60:\n",
    "            학점 = \"D\"\n",
    "        else:\n",
    "            학점 = \"F\"\n",
    "        f.write(f\"점수: {점수}, 학점: {학점}\\n\")\n",
    "    print(f\"파일로 성적을 저장하였습니다.\")"
   ]
  },
  {
   "cell_type": "code",
   "execution_count": null,
   "id": "423ea5ac",
   "metadata": {},
   "outputs": [],
   "source": [
    "f = open(\"test.text\", \"w\", encoding=\"utf-8\")\n",
    "for i in range(1, 101):\n",
    "    if i % 15 == 0:\n",
    "        f.write(\"오예\\n\")\n",
    "    elif i % 3 == 0:\n",
    "        f.write(\"짝\\n\")\n",
    "    elif i % 5 == 0:\n",
    "        f.write(\"오\\n\")\n",
    "    else:\n",
    "        f.write(f\"{i} \")\n",
    "f.close()                          # 반드시 닫아야 실제로 기록됨"
   ]
  },
  {
   "cell_type": "code",
   "execution_count": 139,
   "id": "1d00ca0e",
   "metadata": {},
   "outputs": [
    {
     "name": "stdout",
     "output_type": "stream",
     "text": [
      "--------- 파일 내용 ---------\n",
      "교문(12)점: F\n",
      "기왕(34)점: F\n",
      "교실(56)점: F\n",
      "학생(78)점: C\n",
      "선생님(90)점: A\n",
      "\n"
     ]
    }
   ],
   "source": [
    "school = {\"교문\": 12, \"기왕\": 34, \"교실\": 56, \"학생\": 78, \"선생님\": 90}\n",
    "f = open(\"학점.text\", \"w\", encoding=\"utf-8\")\n",
    "for name, score in school.items():\n",
    "    if score >= 90:\n",
    "        학점 = \"A\"\n",
    "    elif score >= 80:\n",
    "        학점 = \"B\"\n",
    "    elif score >= 70:\n",
    "        학점 = \"C\"\n",
    "    elif score >= 60:\n",
    "        학점 = \"D\"\n",
    "    else:\n",
    "        학점 = \"F\"\n",
    "    f.write(f\"{name}({score})점: {학점}\\n\")\n",
    "f.close()  # 반드시 닫아야 실제로 기록됨    \n",
    "\n",
    "# ② 방금 쓴 내용을 즉시 읽어 화면에 출력\n",
    "f = open(\"학점.text\", \"r\", encoding=\"utf-8\")        \n",
    "print(\"--------- 파일 내용 ---------\")\n",
    "print(f.read())  # 파일 내용 읽기\n",
    "f.close()  # 파일 닫기      \n"
   ]
  },
  {
   "cell_type": "code",
   "execution_count": null,
   "id": "c13f5a12",
   "metadata": {},
   "outputs": [],
   "source": [
    "f = open(\"test.text\", \"w\", encoding=\"utf-8\")\n",
    "f.write(\"\")\n",
    "print(\"파일에 내용이 작성되었습니다.\")\n",
    "f.close()"
   ]
  },
  {
   "cell_type": "code",
   "execution_count": 149,
   "id": "d5d82f80",
   "metadata": {},
   "outputs": [
    {
     "name": "stdout",
     "output_type": "stream",
     "text": [
      "파일로 성적을 성공적으로 저장하였습니다.\n"
     ]
    }
   ],
   "source": [
    "# if 조건만 실습,예외처리\n",
    "학생들 = [90,82,45,71,60,10]\n",
    "try:\n",
    "    f = open(\"C:\\\\park\\\\성적2.txt\", \"w\", encoding=\"utf-8\")\n",
    "    for 점수 in 학생들:\n",
    "        if 점수 < 0 or 점수 > 100:\n",
    "            raise ValueError(\"점수는 0에서 100 사이여야 합니다.\")\n",
    "        if 점수 >= 90 and 점수 <= 100:\n",
    "            학점 = \"A\"\n",
    "        if 점수 >= 80 and 점수 < 90:\n",
    "            학점 = \"B\"\n",
    "        if 점수 >= 70 and 점수 < 80:\n",
    "            학점 = \"C\"\n",
    "        if 점수 >= 60 and 점수 < 70:\n",
    "            학점 = \"D\"\n",
    "        if 점수 < 60:\n",
    "            학점 = \"F\"\n",
    "        f.write(f\"점수: {점수}, 학점: {학점}\\n\")\n",
    "    print(f\"파일로 성적을 성공적으로 저장하였습니다.\")\n",
    "except Exception as e:\n",
    "    print(f\"오류 발생: {e}\")\n",
    "    print(f\"파일로 비정상적으로 저장하였습니다.\")\n",
    "finally:\n",
    "    f.close()"
   ]
  },
  {
   "cell_type": "markdown",
   "id": "9ee3a4c4",
   "metadata": {},
   "source": [
    "## 표준 라이브러리"
   ]
  },
  {
   "cell_type": "code",
   "execution_count": 166,
   "id": "ffb69a2b",
   "metadata": {},
   "outputs": [
    {
     "name": "stdout",
     "output_type": "stream",
     "text": [
      "2025-01-22와 2025-08-14의 차이는 204일입니다.\n",
      "========================================\n",
      "전체 수업기간: 204 일\n",
      "남은 수업기간: 37 일\n",
      "지난 수업기간: 167 일\n"
     ]
    }
   ],
   "source": [
    "# datetime 모듈\n",
    "import datetime\n",
    "day1 = datetime.date(2025, 1, 22)  # 날짜 객체 생성\n",
    "day2 = datetime.date(2025, 8, 14)  # 또 다른 날짜 객체 생성\n",
    "diff = day2 - day1  # 날짜 차이 계산\n",
    "diff2 = day2 - datetime.datetime.now().date()  # 현재 날짜와 day2의 차이 계산\n",
    "print(f\"{day1}와 {day2}의 차이는 {diff.days}일입니다.\")  # 날짜 차이 출력\n",
    "print(\"=\"*40)\n",
    "print(\"전체 수업기간:\", diff.days, \"일\")\n",
    "print(\"남은 수업기간:\", diff2.days, \"일\")\n",
    "print(\"지난 수업기간:\", diff.days - diff2.days, \"일\")"
   ]
  },
  {
   "cell_type": "code",
   "execution_count": 161,
   "id": "e91049ff",
   "metadata": {},
   "outputs": [
    {
     "name": "stdout",
     "output_type": "stream",
     "text": [
      "2025-07-08의 요일은 Tuesday입니다.\n"
     ]
    }
   ],
   "source": [
    "# 요일 확인\n",
    "day = datetime.date(2025, 7, 8)\n",
    "print(f\"{day}의 요일은 {day.strftime('%A')}입니다.\")  # %A는 요일을 나타냄"
   ]
  },
  {
   "cell_type": "code",
   "execution_count": 162,
   "id": "a16e1e7e",
   "metadata": {},
   "outputs": [
    {
     "name": "stdout",
     "output_type": "stream",
     "text": [
      "1751953938.8494086\n"
     ]
    }
   ],
   "source": [
    "import time\n",
    "print(time.time())  # 현재 시간을 초 단위로 출력"
   ]
  },
  {
   "cell_type": "code",
   "execution_count": 163,
   "id": "738187b7",
   "metadata": {},
   "outputs": [
    {
     "name": "stdout",
     "output_type": "stream",
     "text": [
      "time.struct_time(tm_year=2025, tm_mon=7, tm_mday=8, tm_hour=14, tm_min=52, tm_sec=20, tm_wday=1, tm_yday=189, tm_isdst=0)\n",
      "2025\n"
     ]
    }
   ],
   "source": [
    "#time.localtime()  # 현재 시간을 로컬 시간으로 출력\n",
    "tt= time.localtime(time.time())  # 현재 시간을 로컬 시간으로 출력\n",
    "print(tt)  # 로컬 시간 출력\n",
    "print(tt.tm_year)"
   ]
  },
  {
   "cell_type": "code",
   "execution_count": 158,
   "id": "0619a11b",
   "metadata": {},
   "outputs": [
    {
     "name": "stdout",
     "output_type": "stream",
     "text": [
      "Tue Jul  8 14:46:25 2025\n"
     ]
    }
   ],
   "source": [
    "#time.asctime()  # 현재 시간을 문자열로 출력\n",
    "print(time.asctime(tt))  # 로컬 시간을 문자열로 출력\n"
   ]
  },
  {
   "cell_type": "code",
   "execution_count": 159,
   "id": "501070cc",
   "metadata": {},
   "outputs": [
    {
     "name": "stdout",
     "output_type": "stream",
     "text": [
      "Tue Jul  8 14:46:32 2025\n"
     ]
    }
   ],
   "source": [
    "print(time.ctime())  # 현재 시간을 초 단위로 출력"
   ]
  },
  {
   "cell_type": "code",
   "execution_count": 160,
   "id": "60a25854",
   "metadata": {},
   "outputs": [
    {
     "name": "stdout",
     "output_type": "stream",
     "text": [
      "2025-07-08 14:46:25\n"
     ]
    }
   ],
   "source": [
    "print(time.strftime(\"%Y-%m-%d %H:%M:%S\", tt))  # 로컬 시간을 지정된 형식으로 출력"
   ]
  },
  {
   "cell_type": "code",
   "execution_count": 164,
   "id": "2728f11d",
   "metadata": {},
   "outputs": [],
   "source": [
    "time.sleep(1)  # 1초 동안 대기"
   ]
  },
  {
   "cell_type": "code",
   "execution_count": 165,
   "id": "d44f830b",
   "metadata": {},
   "outputs": [
    {
     "name": "stdout",
     "output_type": "stream",
     "text": [
      "카운트: 457\r"
     ]
    },
    {
     "ename": "KeyboardInterrupt",
     "evalue": "",
     "output_type": "error",
     "traceback": [
      "\u001b[31m---------------------------------------------------------------------------\u001b[39m",
      "\u001b[31mKeyboardInterrupt\u001b[39m                         Traceback (most recent call last)",
      "\u001b[36mCell\u001b[39m\u001b[36m \u001b[39m\u001b[32mIn[165]\u001b[39m\u001b[32m, line 4\u001b[39m\n\u001b[32m      2\u001b[39m \u001b[38;5;28;01mfor\u001b[39;00m i \u001b[38;5;129;01min\u001b[39;00m \u001b[38;5;28mrange\u001b[39m(\u001b[32m1000\u001b[39m):\n\u001b[32m      3\u001b[39m     \u001b[38;5;28mprint\u001b[39m(\u001b[33mf\u001b[39m\u001b[33m\"\u001b[39m\u001b[33m카운트: \u001b[39m\u001b[38;5;132;01m{\u001b[39;00mi+\u001b[32m1\u001b[39m\u001b[38;5;132;01m}\u001b[39;00m\u001b[33m\"\u001b[39m,end=\u001b[33m\"\u001b[39m\u001b[38;5;130;01m\\r\u001b[39;00m\u001b[33m\"\u001b[39m)\n\u001b[32m----> \u001b[39m\u001b[32m4\u001b[39m     \u001b[43mt\u001b[49m\u001b[43m.\u001b[49m\u001b[43msleep\u001b[49m\u001b[43m(\u001b[49m\u001b[32;43m1\u001b[39;49m\u001b[43m)\u001b[49m  \u001b[38;5;66;03m# 1초마다 카운트 출력\u001b[39;00m\n",
      "\u001b[31mKeyboardInterrupt\u001b[39m: "
     ]
    }
   ],
   "source": [
    "import time as t\n",
    "for i in range(1000):\n",
    "    print(f\"카운트: {i+1}\",end=\"\\r\")\n",
    "    t.sleep(1)  # 1초마다 카운트 출력"
   ]
  },
  {
   "cell_type": "code",
   "execution_count": null,
   "id": "78d75447",
   "metadata": {},
   "outputs": [],
   "source": [
    "#math 모듈\n",
    "import math\n",
    "print(math.pi)  # 파이 값 출력\n",
    "print(math.e)  # 자연상수 e 값 출력\n",
    "#gcd, lcm\n",
    "print(math.gcd(60, 100, 80))  # 최대공약수\n",
    "print(math.lcm(12, 15))  # 최소공배수\n"
   ]
  },
  {
   "cell_type": "code",
   "execution_count": null,
   "id": "596cc821",
   "metadata": {},
   "outputs": [
    {
     "name": "stdout",
     "output_type": "stream",
     "text": [
      "[7, 8, 12, 28, 30, 42]\n"
     ]
    }
   ],
   "source": [
    "# random 모듈\n",
    "import random\n",
    "\n",
    "a = []\n",
    "while len(a) < 6:\n",
    "    b = random.randint(1, 45)\n",
    "    if b not in a:\n",
    "        a.append(b)\n",
    "a.sort()  \n",
    "print(a)  # 정렬된 리스트 출력"
   ]
  },
  {
   "cell_type": "markdown",
   "id": "52e6c8ff",
   "metadata": {},
   "source": [
    "## tools\n"
   ]
  },
  {
   "cell_type": "code",
   "execution_count": null,
   "id": "26644a18",
   "metadata": {},
   "outputs": [],
   "source": [
    "import itertools\n",
    "students = [\"한민서\", \"김지민\", \"박서준\", \"이수현\", \"최영수\"]\n",
    "snacks= [\"과자\", \"초콜릿\", \"사탕\" ]\n",
    "result = zip(students, snacks)  # 학생과 간식을 짝지음, zip은 작은 배열에 길이를 맞춤\n",
    "print(list(result))  # 결과를 리스트로 변환하여 출력\n",
    "\n",
    "result2 = itertools.zip_longest(students, snacks, fillvalue=\"칸초\") # 짝이 없는 학생은 \"칸초\"로 채움\n",
    "print(list(result2))  # 결과를 리스트로 변환하여 출력\n"
   ]
  },
  {
   "cell_type": "code",
   "execution_count": null,
   "id": "0455262e",
   "metadata": {},
   "outputs": [],
   "source": [
    "# itertools.combination \n",
    "# itertools.permutation\n",
    "import itertools\n",
    "lotto = itertools.combinations(range(1, 46), 6)  # 1부터 45까지의 숫자 중에서 6개를 조합\n",
    "print(len(list(lotto)))  # 조합 결과를 리스트로 변환하여 출력\n"
   ]
  },
  {
   "cell_type": "code",
   "execution_count": null,
   "id": "53809ee5",
   "metadata": {},
   "outputs": [],
   "source": [
    "# functiools.reduce"
   ]
  },
  {
   "cell_type": "markdown",
   "id": "adba2108",
   "metadata": {},
   "source": [
    "# os"
   ]
  },
  {
   "cell_type": "code",
   "execution_count": null,
   "id": "09412457",
   "metadata": {},
   "outputs": [],
   "source": [
    "import os\n",
    "os.environ['PATH'] # 환경 변수 PATH 출력\n",
    "os.chdir(\"D:\\\\kys\\\\public\")  # 현재 작업 디렉토리 출력\n",
    "os.getcwd()  # 현재 작업 디렉토리 출력\n",
    "os.listdir()  # 현재 디렉토리의 파일 목록 출력"
   ]
  },
  {
   "cell_type": "code",
   "execution_count": null,
   "id": "215fa245",
   "metadata": {},
   "outputs": [],
   "source": [
    "import glob\n",
    "for file in glob.glob(\"./py*.ipynb\"):\n",
    "    print(file)  # 현재 디렉토리의 모든 .txt 파일 출력"
   ]
  },
  {
   "cell_type": "code",
   "execution_count": null,
   "id": "aaaba738",
   "metadata": {},
   "outputs": [],
   "source": [
    "# import shutil , 파일 복사, 이동, 삭제 등 기능"
   ]
  },
  {
   "cell_type": "code",
   "execution_count": 238,
   "id": "093f1b4c",
   "metadata": {},
   "outputs": [
    {
     "name": "stdout",
     "output_type": "stream",
     "text": [
      "Collecting faker\n",
      "  Downloading faker-37.4.0-py3-none-any.whl.metadata (15 kB)\n",
      "Collecting tzdata (from faker)\n",
      "  Downloading tzdata-2025.2-py2.py3-none-any.whl.metadata (1.4 kB)\n",
      "Downloading faker-37.4.0-py3-none-any.whl (1.9 MB)\n",
      "   ---------------------------------------- 0.0/1.9 MB ? eta -:--:--\n",
      "   ------------------------------------- -- 1.8/1.9 MB 9.5 MB/s eta 0:00:01\n",
      "   ---------------------------------------- 1.9/1.9 MB 6.8 MB/s eta 0:00:00\n",
      "Downloading tzdata-2025.2-py2.py3-none-any.whl (347 kB)\n",
      "Installing collected packages: tzdata, faker\n",
      "\n",
      "   ---------------------------------------- 0/2 [tzdata]\n",
      "   -------------------- ------------------- 1/2 [faker]\n",
      "   -------------------- ------------------- 1/2 [faker]\n",
      "   -------------------- ------------------- 1/2 [faker]\n",
      "   -------------------- ------------------- 1/2 [faker]\n",
      "   -------------------- ------------------- 1/2 [faker]\n",
      "   -------------------- ------------------- 1/2 [faker]\n",
      "   -------------------- ------------------- 1/2 [faker]\n",
      "   -------------------- ------------------- 1/2 [faker]\n",
      "   -------------------- ------------------- 1/2 [faker]\n",
      "   -------------------- ------------------- 1/2 [faker]\n",
      "   -------------------- ------------------- 1/2 [faker]\n",
      "   -------------------- ------------------- 1/2 [faker]\n",
      "   -------------------- ------------------- 1/2 [faker]\n",
      "   -------------------- ------------------- 1/2 [faker]\n",
      "   -------------------- ------------------- 1/2 [faker]\n",
      "   -------------------- ------------------- 1/2 [faker]\n",
      "   -------------------- ------------------- 1/2 [faker]\n",
      "   -------------------- ------------------- 1/2 [faker]\n",
      "   -------------------- ------------------- 1/2 [faker]\n",
      "   -------------------- ------------------- 1/2 [faker]\n",
      "   -------------------- ------------------- 1/2 [faker]\n",
      "   -------------------- ------------------- 1/2 [faker]\n",
      "   -------------------- ------------------- 1/2 [faker]\n",
      "   -------------------- ------------------- 1/2 [faker]\n",
      "   -------------------- ------------------- 1/2 [faker]\n",
      "   -------------------- ------------------- 1/2 [faker]\n",
      "   -------------------- ------------------- 1/2 [faker]\n",
      "   -------------------- ------------------- 1/2 [faker]\n",
      "   -------------------- ------------------- 1/2 [faker]\n",
      "   ---------------------------------------- 2/2 [faker]\n",
      "\n",
      "Successfully installed faker-37.4.0 tzdata-2025.2\n"
     ]
    }
   ],
   "source": [
    "!pip install faker"
   ]
  },
  {
   "cell_type": "code",
   "execution_count": 1,
   "id": "a07fc030",
   "metadata": {},
   "outputs": [
    {
     "data": {
      "text/plain": [
       "[{'name': '오현주',\n",
       "  'phone': '063-298-0118',\n",
       "  'address': '충청남도 수원시 팔달구 백제고분64가 635-89 (영숙최읍)',\n",
       "  'email': 'imiyeong@example.org'},\n",
       " {'name': '류재호',\n",
       "  'phone': '070-3614-3964',\n",
       "  'address': '인천광역시 송파구 석촌호수50로 777-74 (상호김김마을)',\n",
       "  'email': 'hongsangho@example.org'},\n",
       " {'name': '이지원',\n",
       "  'phone': '019-572-7241',\n",
       "  'address': '광주광역시 강남구 도산대거리 574-40',\n",
       "  'email': 'jimin68@example.com'},\n",
       " {'name': '김명숙',\n",
       "  'phone': '041-594-6739',\n",
       "  'address': '경상남도 금산군 학동68길 842 (지혜최최동)',\n",
       "  'email': 'igim@example.org'},\n",
       " {'name': '윤민서',\n",
       "  'phone': '010-4066-0308',\n",
       "  'address': '대전광역시 영등포구 삼성9거리 260',\n",
       "  'email': 'nyang@example.com'}]"
      ]
     },
     "execution_count": 1,
     "metadata": {},
     "output_type": "execute_result"
    }
   ],
   "source": [
    "from faker import Faker\n",
    "fake = Faker('ko_KR')  # 한국어로 Faker 객체 생성\n",
    "[{\"name\": fake.name(), \"phone\": fake.phone_number(), \"address\": fake.address(), \"email\": fake.email()} for _ in range(5)]  # 5개의 더미 데이터 생성"
   ]
  }
 ],
 "metadata": {
  "kernelspec": {
   "display_name": "Python 3",
   "language": "python",
   "name": "python3"
  },
  "language_info": {
   "codemirror_mode": {
    "name": "ipython",
    "version": 3
   },
   "file_extension": ".py",
   "mimetype": "text/x-python",
   "name": "python",
   "nbconvert_exporter": "python",
   "pygments_lexer": "ipython3",
   "version": "3.13.3"
  }
 },
 "nbformat": 4,
 "nbformat_minor": 5
}
